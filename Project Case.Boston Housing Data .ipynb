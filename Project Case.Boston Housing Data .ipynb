{
 "cells": [
  {
   "cell_type": "code",
   "execution_count": null,
   "id": "8b2fb991-00eb-43c4-9580-25e153230c25",
   "metadata": {},
   "outputs": [],
   "source": [
    "boston_url = 'https://cf-courses-data.s3.us.cloud-object-storage.appdomain.cloud/IBMDeveloperSkillsNetwork-ST0151EN-SkillsNetwork/labs/boston_housing.csv'\n",
    "boston_df=pd.read_csv(boston_url)"
   ]
  },
  {
   "cell_type": "markdown",
   "id": "3d052a48-5084-43fa-9f11-9b2c78e1b8fc",
   "metadata": {},
   "source": [
    "Generate Descriptive Statistics and Visualizations\n",
    "\n",
    "For all visualizations, please include a title in each graph and appropriate labels\n",
    "Generate the following and explain your findings:\n",
    "\n",
    "•\tFor the \"Median value of owner-occupied homes\" provide a boxplot\n",
    "•\tProvide a bar plot for the Charles river variable\n",
    "•\tProvide a boxplot for the MEDV variable vs the AGE variable. (Discretize the age variable into three groups of 35 years and younger, between 35 and 70 years and 70 years and older)\n",
    "•\tProvide a scatter plot to show the relationship between Nitric oxide concentrations and the proportion of non-retail business acres per town. What can you say about the relationship?\n",
    "•\tCreate a histogram for the pupil to teacher ratio variable"
   ]
  },
  {
   "cell_type": "code",
   "execution_count": null,
   "id": "e6b83603-9ba0-4e82-8aa6-b88267e089d6",
   "metadata": {},
   "outputs": [],
   "source": []
  }
 ],
 "metadata": {
  "kernelspec": {
   "display_name": "Python 3 (ipykernel)",
   "language": "python",
   "name": "python3"
  },
  "language_info": {
   "codemirror_mode": {
    "name": "ipython",
    "version": 3
   },
   "file_extension": ".py",
   "mimetype": "text/x-python",
   "name": "python",
   "nbconvert_exporter": "python",
   "pygments_lexer": "ipython3",
   "version": "3.9.12"
  }
 },
 "nbformat": 4,
 "nbformat_minor": 5
}
